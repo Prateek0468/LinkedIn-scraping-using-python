{
 "cells": [
  {
   "cell_type": "code",
   "execution_count": 5,
   "source": [
    "import requests, time, random\r\n",
    "from bs4 import BeautifulSoup\r\n",
    "from selenium import webdriver\r\n",
    "from webdriver_manager.chrome import ChromeDriverManager\r\n",
    "import lxml"
   ],
   "outputs": [],
   "metadata": {}
  },
  {
   "cell_type": "code",
   "execution_count": 2,
   "source": [
    "browser = webdriver.Chrome(ChromeDriverManager().install())\r\n",
    "browser.get('https://www.linkedin.com/login')\r\n",
    "time.sleep(5)\r\n",
    "\r\n",
    "username = 'Enter your username here'\r\n",
    "password = 'Enter your password here'\r\n",
    "\r\n",
    "elementID = browser.find_element_by_id( 'username' )\r\n",
    "elementID.send_keys (username)\r\n",
    "time.sleep(2)\r\n",
    "elementID = browser.find_element_by_id( 'password' )\r\n",
    "elementID.send_keys (password)\r\n",
    "time.sleep(2)\r\n",
    "elementID.submit( )\r\n",
    "\r\n",
    "\r\n",
    "link = 'https://www.linkedin.com/in/rishabh-singh-61b706114/'\r\n",
    "# link - 'https://www.Linkedin.com/in/simran-gandht-024593128/ '\r\n",
    "# Link - 'https://www.Linkedin.com/in/smriti-handa-0636045/ '\r\n",
    "# Link - 'https://wwww.Linkedin.com/in/charan-nadendla-858a17120/\r\n",
    "# link - 'https://www.Linkedin.com/in/mayank-agrawal-1a5883148/\r\n",
    "browser.get(link)"
   ],
   "outputs": [
    {
     "output_type": "stream",
     "name": "stderr",
     "text": [
      "\n",
      "\n",
      "====== WebDriver manager ======\n",
      "Current google-chrome version is 93.0.4577\n",
      "Get LATEST driver version for 93.0.4577\n",
      "There is no [win32] chromedriver for browser 93.0.4577 in cache\n",
      "Get LATEST driver version for 93.0.4577\n",
      "Trying to download new driver from https://chromedriver.storage.googleapis.com/93.0.4577.15/chromedriver_win32.zip\n",
      "Driver has been saved in cache [C:\\Users\\shrey\\.wdm\\drivers\\chromedriver\\win32\\93.0.4577.15]\n"
     ]
    }
   ],
   "metadata": {}
  },
  {
   "cell_type": "code",
   "execution_count": 3,
   "source": [
    "SCROLL_PAUSE_TIME = 5\r\n",
    "# Get scroll height\r\n",
    "last_height = browser.execute_script(\"return document.body.scrollHeight\")\r\n",
    "for i in range(3):\r\n",
    "    # Scroll down to bottom\r\n",
    "    browser.execute_script(\"window.scrollTo(0, document.body.scrollHeight);\")\r\n",
    "    # Wait to Load page\r\n",
    "    time.sleep(SCROLL_PAUSE_TIME)\r\n",
    "\r\n",
    "    # Calculate new scroll height and compare with Last scroll height\r\n",
    "    new_height = browser.execute_script(\"return document.body. scrollHeight\")\r\n",
    "    if new_height == last_height:\r\n",
    "        break\r\n",
    "    last_height = new_height\r\n"
   ],
   "outputs": [],
   "metadata": {}
  },
  {
   "cell_type": "code",
   "execution_count": null,
   "source": [
    "src = browser.page_source\r\n",
    "soup = BeautifulSoup(src,'lxml')"
   ],
   "outputs": [],
   "metadata": {}
  },
  {
   "cell_type": "markdown",
   "source": [
    "# Info"
   ],
   "metadata": {}
  },
  {
   "cell_type": "code",
   "execution_count": 26,
   "source": [
    "loc = soup.find('span',{'class':'text-body-small inline t-black--light break-words'}).get_text().strip()\r\n",
    "loc"
   ],
   "outputs": [
    {
     "output_type": "execute_result",
     "data": {
      "text/plain": [
       "'Bangalore Urban, Karnataka, India'"
      ]
     },
     "metadata": {},
     "execution_count": 26
    }
   ],
   "metadata": {}
  },
  {
   "cell_type": "code",
   "execution_count": 28,
   "source": [
    "name = soup.find('h1',{'class':'text-heading-xlarge inline t-24 v-align-middle break-words'}).get_text().strip()\r\n",
    "name"
   ],
   "outputs": [
    {
     "output_type": "execute_result",
     "data": {
      "text/plain": [
       "'Rishabh Singh'"
      ]
     },
     "metadata": {},
     "execution_count": 28
    }
   ],
   "metadata": {}
  },
  {
   "cell_type": "code",
   "execution_count": 30,
   "source": [
    "loc = soup.find('span',{'class':'text-body-small inline t-black--light break-words'}).get_text().strip()\r\n",
    "loc"
   ],
   "outputs": [
    {
     "output_type": "execute_result",
     "data": {
      "text/plain": [
       "'Bangalore Urban, Karnataka, India'"
      ]
     },
     "metadata": {},
     "execution_count": 30
    }
   ],
   "metadata": {}
  },
  {
   "cell_type": "code",
   "execution_count": 29,
   "source": [
    "connection = soup.find('span',{'class':'t-bold'}).get_text().strip()\r\n",
    "connection"
   ],
   "outputs": [
    {
     "output_type": "execute_result",
     "data": {
      "text/plain": [
       "'500+'"
      ]
     },
     "metadata": {},
     "execution_count": 29
    }
   ],
   "metadata": {}
  },
  {
   "cell_type": "markdown",
   "source": [
    "# Experience"
   ],
   "metadata": {}
  },
  {
   "cell_type": "code",
   "execution_count": 51,
   "source": [
    "exp_section = soup.find('section',{'id':'experience-section'})\r\n",
    "print(exp_section)"
   ],
   "outputs": [
    {
     "output_type": "stream",
     "name": "stdout",
     "text": [
      "<section class=\"pv-profile-section experience-section ember-view\" id=\"experience-section\"><header class=\"pv-profile-section__card-header\">\n",
      "<h2 class=\"pv-profile-section__card-heading\">\n",
      "    Experience\n",
      "  </h2>\n",
      "<!-- --></header>\n",
      "<ul class=\"pv-profile-section__section-info section-info pv-profile-section__section-info--has-no-more\">\n",
      "<li class=\"pv-entity__position-group-pager pv-profile-section__list-item ember-view\" id=\"ember364\"> <section class=\"pv-profile-section__card-item-v2 pv-profile-section pv-position-entity ember-view\" id=\"1517647779\"> <div class=\"display-flex justify-space-between full-width\">\n",
      "<div class=\"display-flex flex-column full-width\">\n",
      "<a class=\"full-width ember-view\" data-control-name=\"background_details_company\" href=\"/company/honeywell/\" id=\"ember366\"> <div class=\"pv-entity__logo company-logo\">\n",
      "<img alt=\"Honeywell\" class=\"pv-entity__logo-img EntityPhoto-square-5 lazy-image ember-view\" id=\"ember368\" loading=\"lazy\" src=\"https://media-exp1.licdn.com/dms/image/C560BAQFvcIh3UnA5zw/company-logo_100_100/0/1535662846602?e=1639008000&amp;v=beta&amp;t=o9oD0yzrQ6eMvfWN3rDgWPknwJDwP5uTNQ_fNZxCXNM\"/>\n",
      "</div>\n",
      "<div class=\"pv-entity__summary-info pv-entity__summary-info--background-section\">\n",
      "<h3 class=\"t-16 t-black t-bold\">FPGA Engineer</h3>\n",
      "<p class=\"visually-hidden\">Company Name</p>\n",
      "<p class=\"pv-entity__secondary-title t-14 t-black t-normal\">\n",
      "      Honeywell\n",
      "        <span class=\"pv-entity__secondary-title separator\">Full-time</span>\n",
      "</p>\n",
      "<div class=\"display-flex\">\n",
      "<h4 class=\"pv-entity__date-range t-14 t-black--light t-normal\">\n",
      "<span class=\"visually-hidden\">Dates Employed</span>\n",
      "<span>Aug 2019 – May 2021</span>\n",
      "</h4>\n",
      "<h4 class=\"t-14 t-black--light t-normal\">\n",
      "<span class=\"visually-hidden\">Employment Duration</span>\n",
      "<span class=\"pv-entity__bullet-item-v2\">1 yr 10 mos</span>\n",
      "</h4>\n",
      "</div>\n",
      "<h4 class=\"pv-entity__location t-14 t-black--light t-normal block\">\n",
      "<span class=\"visually-hidden\">Location</span>\n",
      "<span>Bengaluru Area, India</span>\n",
      "</h4>\n",
      "<!-- -->\n",
      "</div>\n",
      "</a>\n",
      "<!-- --> </div>\n",
      "<!-- --> </div>\n",
      "</section>\n",
      "</li><li class=\"pv-entity__position-group-pager pv-profile-section__list-item ember-view\" id=\"ember370\"> <section class=\"pv-profile-section__card-item-v2 pv-profile-section pv-position-entity ember-view\" id=\"929137672\"> <div class=\"display-flex justify-space-between full-width\">\n",
      "<div class=\"display-flex flex-column full-width\">\n",
      "<a class=\"full-width ember-view\" data-control-name=\"background_details_company\" href=\"/company/l&amp;t-technology-services-limited/\" id=\"ember372\"> <div class=\"pv-entity__logo company-logo\">\n",
      "<img alt=\"L&amp;T Technology Services Limited\" class=\"pv-entity__logo-img EntityPhoto-square-5 lazy-image ember-view\" id=\"ember374\" loading=\"lazy\" src=\"https://media-exp1.licdn.com/dms/image/C510BAQFFdHnl8nr2KA/company-logo_100_100/0/1580388652067?e=1639008000&amp;v=beta&amp;t=ssKeT4u5jo4qbf2jhBiLpqxzPJQmWpt-P6kPfzG5EuY\"/>\n",
      "</div>\n",
      "<div class=\"pv-entity__summary-info pv-entity__summary-info--background-section\">\n",
      "<h3 class=\"t-16 t-black t-bold\">FPGA Design Engineer</h3>\n",
      "<p class=\"visually-hidden\">Company Name</p>\n",
      "<p class=\"pv-entity__secondary-title t-14 t-black t-normal\">\n",
      "      L&amp;T Technology Services Limited\n",
      "        <span class=\"pv-entity__secondary-title separator\">Full-time</span>\n",
      "</p>\n",
      "<div class=\"display-flex\">\n",
      "<h4 class=\"pv-entity__date-range t-14 t-black--light t-normal\">\n",
      "<span class=\"visually-hidden\">Dates Employed</span>\n",
      "<span>Jan 2017 – Jul 2019</span>\n",
      "</h4>\n",
      "<h4 class=\"t-14 t-black--light t-normal\">\n",
      "<span class=\"visually-hidden\">Employment Duration</span>\n",
      "<span class=\"pv-entity__bullet-item-v2\">2 yrs 7 mos</span>\n",
      "</h4>\n",
      "</div>\n",
      "<h4 class=\"pv-entity__location t-14 t-black--light t-normal block\">\n",
      "<span class=\"visually-hidden\">Location</span>\n",
      "<span>Bengaluru Area, India</span>\n",
      "</h4>\n",
      "<!-- -->\n",
      "</div>\n",
      "</a>\n",
      "<!-- --> </div>\n",
      "<!-- --> </div>\n",
      "</section>\n",
      "</li> </ul>\n",
      "<!-- --></section>\n"
     ]
    }
   ],
   "metadata": {}
  },
  {
   "cell_type": "code",
   "execution_count": 52,
   "source": [
    "exp_section = exp_section.find('ul')\r\n",
    "li_tags = exp_section.find('li')\r\n"
   ],
   "outputs": [],
   "metadata": {}
  },
  {
   "cell_type": "code",
   "execution_count": 53,
   "source": [
    "a_tags = li_tags.find('a')\r\n",
    "a_tags"
   ],
   "outputs": [
    {
     "output_type": "execute_result",
     "data": {
      "text/plain": [
       "<a class=\"full-width ember-view\" data-control-name=\"background_details_company\" href=\"/company/honeywell/\" id=\"ember366\"> <div class=\"pv-entity__logo company-logo\">\n",
       "<img alt=\"Honeywell\" class=\"pv-entity__logo-img EntityPhoto-square-5 lazy-image ember-view\" id=\"ember368\" loading=\"lazy\" src=\"https://media-exp1.licdn.com/dms/image/C560BAQFvcIh3UnA5zw/company-logo_100_100/0/1535662846602?e=1639008000&amp;v=beta&amp;t=o9oD0yzrQ6eMvfWN3rDgWPknwJDwP5uTNQ_fNZxCXNM\"/>\n",
       "</div>\n",
       "<div class=\"pv-entity__summary-info pv-entity__summary-info--background-section\">\n",
       "<h3 class=\"t-16 t-black t-bold\">FPGA Engineer</h3>\n",
       "<p class=\"visually-hidden\">Company Name</p>\n",
       "<p class=\"pv-entity__secondary-title t-14 t-black t-normal\">\n",
       "      Honeywell\n",
       "        <span class=\"pv-entity__secondary-title separator\">Full-time</span>\n",
       "</p>\n",
       "<div class=\"display-flex\">\n",
       "<h4 class=\"pv-entity__date-range t-14 t-black--light t-normal\">\n",
       "<span class=\"visually-hidden\">Dates Employed</span>\n",
       "<span>Aug 2019 – May 2021</span>\n",
       "</h4>\n",
       "<h4 class=\"t-14 t-black--light t-normal\">\n",
       "<span class=\"visually-hidden\">Employment Duration</span>\n",
       "<span class=\"pv-entity__bullet-item-v2\">1 yr 10 mos</span>\n",
       "</h4>\n",
       "</div>\n",
       "<h4 class=\"pv-entity__location t-14 t-black--light t-normal block\">\n",
       "<span class=\"visually-hidden\">Location</span>\n",
       "<span>Bengaluru Area, India</span>\n",
       "</h4>\n",
       "<!-- -->\n",
       "</div>\n",
       "</a>"
      ]
     },
     "metadata": {},
     "execution_count": 53
    }
   ],
   "metadata": {}
  },
  {
   "cell_type": "code",
   "execution_count": 54,
   "source": [
    "job_title = a_tags.find('h3').get_text().strip()\r\n",
    "job_title"
   ],
   "outputs": [
    {
     "output_type": "execute_result",
     "data": {
      "text/plain": [
       "'FPGA Engineer'"
      ]
     },
     "metadata": {},
     "execution_count": 54
    }
   ],
   "metadata": {}
  },
  {
   "cell_type": "code",
   "execution_count": 55,
   "source": [
    "company_name = a_tags.find_all('p')[1].get_text().strip()\r\n",
    "company_name"
   ],
   "outputs": [
    {
     "output_type": "execute_result",
     "data": {
      "text/plain": [
       "'Honeywell\\n        Full-time'"
      ]
     },
     "metadata": {},
     "execution_count": 55
    }
   ],
   "metadata": {}
  },
  {
   "cell_type": "code",
   "execution_count": 56,
   "source": [
    "joining_date = a_tags.find_all('h4')[0].find_all('span')[1].get_text().strip()\r\n",
    "joining_date"
   ],
   "outputs": [
    {
     "output_type": "execute_result",
     "data": {
      "text/plain": [
       "'Aug 2019 – May 2021'"
      ]
     },
     "metadata": {},
     "execution_count": 56
    }
   ],
   "metadata": {}
  },
  {
   "cell_type": "code",
   "execution_count": 57,
   "source": [
    "exp = a_tags.find_all('h4')[1].find_all('span')[1].get_text().strip()\r\n",
    "exp"
   ],
   "outputs": [
    {
     "output_type": "execute_result",
     "data": {
      "text/plain": [
       "'1 yr 10 mos'"
      ]
     },
     "metadata": {},
     "execution_count": 57
    }
   ],
   "metadata": {}
  },
  {
   "cell_type": "markdown",
   "source": [
    "# Education"
   ],
   "metadata": {}
  },
  {
   "cell_type": "code",
   "execution_count": 58,
   "source": [
    "edu_section = soup.find('section',{'id':'education-section'}).find('ul')\r\n",
    "edu_section"
   ],
   "outputs": [
    {
     "output_type": "execute_result",
     "data": {
      "text/plain": [
       "<ul class=\"pv-profile-section__section-info section-info pv-profile-section__section-info--has-no-more\">\n",
       "<li class=\"pv-profile-section__list-item pv-education-entity pv-profile-section__card-item ember-view\" id=\"356637700\"><div class=\"display-flex justify-space-between full-width\">\n",
       "<div class=\"display-flex flex-column full-width\">\n",
       "<a class=\"ember-view\" data-control-name=\"background_details_school\" href=\"/school/223389/?legacySchoolId=223389\" id=\"ember379\"> <div class=\"pv-entity__logo\">\n",
       "<img alt=\"Technocrats Institute of Technology (Excellence), Anand Nagar, PB No. 24, Post Piplani, BHEL, Bhopal - 462021\" class=\"pv-entity__logo-img pv-entity__logo-img EntityPhoto-square-4 lazy-image ghost-school ember-view\" id=\"ember381\" loading=\"lazy\" src=\"data:image/gif;base64,R0lGODlhAQABAIAAAAAAAP///yH5BAEAAAAALAAAAAABAAEAAAIBRAA7\"/>\n",
       "</div>\n",
       "<div class=\"pv-entity__summary-info pv-entity__summary-info--background-section\">\n",
       "<div class=\"pv-entity__degree-info\">\n",
       "<h3 class=\"pv-entity__school-name t-16 t-black t-bold\">Technocrats Institute of Technology (Excellence), Anand Nagar, PB No. 24, Post Piplani, BHEL, Bhopal - 462021</h3>\n",
       "<p class=\"pv-entity__secondary-title pv-entity__degree-name t-14 t-black t-normal\">\n",
       "<span class=\"visually-hidden\">Degree Name</span>\n",
       "<span class=\"pv-entity__comma-item\">Bachelor of Engineering (B.E.)</span>\n",
       "</p>\n",
       "<p class=\"pv-entity__secondary-title pv-entity__fos t-14 t-black t-normal\">\n",
       "<span class=\"visually-hidden\">Field Of Study</span>\n",
       "<span class=\"pv-entity__comma-item\">Electrical, Electronics and Communications Engineering</span>\n",
       "</p>\n",
       "<p class=\"pv-entity__secondary-title pv-entity__grade t-14 t-black t-normal\">\n",
       "<span class=\"visually-hidden\">Grade</span>\n",
       "<span class=\"pv-entity__comma-item\">FIRST</span>\n",
       "</p>\n",
       "</div>\n",
       "<p class=\"pv-entity__dates t-14 t-black--light t-normal\">\n",
       "<span class=\"visually-hidden\">Dates attended or expected graduation</span>\n",
       "<span>\n",
       "<time>2012</time> – <time>2016</time>\n",
       "</span>\n",
       "</p>\n",
       "<!-- --></div>\n",
       "</a>\n",
       "<!-- --> </div>\n",
       "<!-- --></div></li>\n",
       "<li class=\"pv-profile-section__list-item pv-education-entity pv-profile-section__card-item ember-view\" id=\"373985416\"><div class=\"display-flex justify-space-between full-width\">\n",
       "<div class=\"display-flex flex-column full-width\">\n",
       "<a class=\"ember-view\" href=\"/search/results/all/?keywords=S.H.S.B.B\" id=\"ember383\">\n",
       "<div class=\"pv-entity__logo\">\n",
       "<img alt=\"S.H.S.B.B\" class=\"pv-entity__logo-img pv-entity__logo-img EntityPhoto-square-4 lazy-image ghost-school ember-view\" id=\"ember385\" loading=\"lazy\" src=\"data:image/gif;base64,R0lGODlhAQABAIAAAAAAAP///yH5BAEAAAAALAAAAAABAAEAAAIBRAA7\"/>\n",
       "</div>\n",
       "<div class=\"pv-entity__summary-info pv-entity__summary-info--background-section\">\n",
       "<div class=\"pv-entity__degree-info\">\n",
       "<h3 class=\"pv-entity__school-name t-16 t-black t-bold\">S.H.S.B.B</h3>\n",
       "<!-- --> <p class=\"pv-entity__secondary-title pv-entity__fos t-14 t-black t-normal\">\n",
       "<span class=\"visually-hidden\">Field Of Study</span>\n",
       "<span class=\"pv-entity__comma-item\">PCM</span>\n",
       "</p>\n",
       "<!-- --> </div>\n",
       "<!-- -->\n",
       "<!-- --></div>\n",
       "</a>\n",
       "<!-- --> </div>\n",
       "<!-- --></div></li>\n",
       "</ul>"
      ]
     },
     "metadata": {},
     "execution_count": 58
    }
   ],
   "metadata": {}
  },
  {
   "cell_type": "code",
   "execution_count": 59,
   "source": [
    "college_name = edu_section.find('h3').get_text().strip()\r\n",
    "college_name"
   ],
   "outputs": [
    {
     "output_type": "execute_result",
     "data": {
      "text/plain": [
       "'Technocrats Institute of Technology (Excellence), Anand Nagar, PB No. 24, Post Piplani, BHEL, Bhopal - 462021'"
      ]
     },
     "metadata": {},
     "execution_count": 59
    }
   ],
   "metadata": {}
  },
  {
   "cell_type": "code",
   "execution_count": 62,
   "source": [
    "degree_name = edu_section.find('p',{'class':'pv-entity__secondary-title pv-entity__degree-name t-14 t-black t-normal'}).find_all('span')[1].get_text()\r\n",
    "degree_name"
   ],
   "outputs": [
    {
     "output_type": "execute_result",
     "data": {
      "text/plain": [
       "'Bachelor of Engineering (B.E.)'"
      ]
     },
     "metadata": {},
     "execution_count": 62
    }
   ],
   "metadata": {}
  },
  {
   "cell_type": "code",
   "execution_count": 66,
   "source": [
    "stream_name = edu_section.find('p',{'class':'pv-entity__secondary-title pv-entity__fos t-14 t-black t-normal'}).find_all('span')[1].get_text()\r\n",
    "stream_name"
   ],
   "outputs": [
    {
     "output_type": "execute_result",
     "data": {
      "text/plain": [
       "'Electrical, Electronics and Communications Engineering'"
      ]
     },
     "metadata": {},
     "execution_count": 66
    }
   ],
   "metadata": {}
  },
  {
   "cell_type": "code",
   "execution_count": 71,
   "source": [
    "degree_year = edu_section.find('p',{'class':'pv-entity__dates t-14 t-black--light t-normal'}).find_all('span')[1].get_text().\r\n",
    "degree_year "
   ],
   "outputs": [
    {
     "output_type": "execute_result",
     "data": {
      "text/plain": [
       "'\\n2012 – 2016\\n'"
      ]
     },
     "metadata": {},
     "execution_count": 71
    }
   ],
   "metadata": {}
  },
  {
   "cell_type": "code",
   "execution_count": 73,
   "source": [
    "info = [link,name,loc,connection,job_title,company_name,joining_date,exp,college_name,degree_name,stream_name,degree_year]\r\n",
    "info"
   ],
   "outputs": [
    {
     "output_type": "execute_result",
     "data": {
      "text/plain": [
       "['https://www.linkedin.com/in/rishabh-singh-61b706114/',\n",
       " 'Rishabh Singh',\n",
       " 'Bangalore Urban, Karnataka, India',\n",
       " '500+',\n",
       " 'FPGA Engineer',\n",
       " 'Honeywell\\n        Full-time',\n",
       " 'Aug 2019 – May 2021',\n",
       " '1 yr 10 mos',\n",
       " 'Technocrats Institute of Technology (Excellence), Anand Nagar, PB No. 24, Post Piplani, BHEL, Bhopal - 462021',\n",
       " 'Bachelor of Engineering (B.E.)',\n",
       " 'Electrical, Electronics and Communications Engineering',\n",
       " '\\n2012 – 2016\\n']"
      ]
     },
     "metadata": {},
     "execution_count": 73
    }
   ],
   "metadata": {}
  }
 ],
 "metadata": {
  "orig_nbformat": 4,
  "language_info": {
   "name": "python",
   "version": "3.9.5",
   "mimetype": "text/x-python",
   "codemirror_mode": {
    "name": "ipython",
    "version": 3
   },
   "pygments_lexer": "ipython3",
   "nbconvert_exporter": "python",
   "file_extension": ".py"
  },
  "kernelspec": {
   "name": "python3",
   "display_name": "Python 3.9.5 64-bit"
  },
  "interpreter": {
   "hash": "465c5b201858e001f3de52224df420302c022e48111b8e1e8429acbdd8e1444a"
  }
 },
 "nbformat": 4,
 "nbformat_minor": 2
}